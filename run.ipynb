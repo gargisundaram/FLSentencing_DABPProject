{
 "cells": [
  {
   "cell_type": "code",
   "execution_count": 1,
   "metadata": {},
   "outputs": [],
   "source": [
    "import pandas as pd\n",
    "import numpy as np\n",
    "import os\n",
    "\n",
    "import matplotlib.pyplot as plt\n",
    "import seaborn as sns\n",
    "from sklearn.model_selection import train_test_split, GridSearchCV\n",
    "from sklearn.tree import DecisionTreeClassifier, DecisionTreeRegressor, plot_tree\n",
    "from sklearn.ensemble import RandomForestClassifier, RandomForestRegressor\n",
    "from sklearn.metrics import classification_report, confusion_matrix, accuracy_score, r2_score, mean_squared_error\n",
    "from xgboost import XGBRegressor, XGBClassifier\n",
    "import shap\n",
    "from functools import reduce"
   ]
  },
  {
   "cell_type": "code",
   "execution_count": 2,
   "metadata": {},
   "outputs": [],
   "source": [
    "#Read-in custom function\n",
    "import CleanSAO\n",
    "from CleanFDOC import clean_fdoc\n",
    "from CreateCCMaster import create_ccm\n",
    "from CreateModelDF import model_df\n",
    "from TreeModels import get_tree"
   ]
  },
  {
   "cell_type": "code",
   "execution_count": 6,
   "metadata": {},
   "outputs": [
    {
     "data": {
      "text/plain": [
       "Index(['CASE_ID', 'UNIQUE_CORRELATION_ID', 'CHARGE_ID', 'CASE_CREATED_DATE',\n",
       "       'CHARGE_DEGREE', 'CHARGE_LEVEL', 'CORRELATION_ID',\n",
       "       'DEF_PROSEC_PRETRIAL_DIVER_AGREE_DATE', 'DEF_STATUTE_CHAPTER_CODE',\n",
       "       'DEF_STATUTE_CHAPTER_GROUPING', 'DEF_STATUTE_SECTION',\n",
       "       'DEF_STATUTE_SUBSECTION', 'DEFENDANT_AGE', 'DEFENDANT_RACE_TYPE_DESC',\n",
       "       'DEFENDANT_SEX_TYPE_DESC', 'DEFENDANT_ETHNICITY_TYPE_DESC',\n",
       "       'DEFENDANT_ID', 'DRUG_TYPE_DESC', 'FINAL_ACTION_PROSECUTOR',\n",
       "       'FINAL_ACTION_DESC', 'FINAL_DECISION', 'OFFENSE_CODE',\n",
       "       'OFFENSE_FCIC_TYPE_DESC', 'OWNER_ORI', 'STATUTE', 'VICTIM_AGE',\n",
       "       'VICTIM_RACE_TYPE_DESC', 'VICTIM_SEX_TYPE_DESC',\n",
       "       'VICTIM_ETHNICITY_TYPE_DESC', 'VICTIM_ID',\n",
       "       'VICTIM_RELATIONSHIP_TO_OFFENDER_CODE', 'UCN_COUNTY_CODE',\n",
       "       'AGENCY_NAME', 'COUNTY_DESCRIPTION', 'STATE'],\n",
       "      dtype='object')"
      ]
     },
     "execution_count": 6,
     "metadata": {},
     "output_type": "execute_result"
    }
   ],
   "source": [
    "pd.read_csv('CjdtSAOCase_00000.csv').columns"
   ]
  },
  {
   "cell_type": "code",
   "execution_count": 3,
   "metadata": {},
   "outputs": [
    {
     "ename": "AttributeError",
     "evalue": "'DataFrame' object has no attribute 'OFFENSE_FCIC_TYPE_DESC'",
     "output_type": "error",
     "traceback": [
      "\u001b[1;31m---------------------------------------------------------------------------\u001b[0m",
      "\u001b[1;31mAttributeError\u001b[0m                            Traceback (most recent call last)",
      "\u001b[1;32mc:\\Users\\gargi\\OneDrive\\Documents\\CMU\\FA22\\DABP\\Project\\FLSentencing_DABPProject\\run.ipynb Cell 3\u001b[0m in \u001b[0;36m<cell line: 6>\u001b[1;34m()\u001b[0m\n\u001b[0;32m      <a href='vscode-notebook-cell:/c%3A/Users/gargi/OneDrive/Documents/CMU/FA22/DABP/Project/FLSentencing_DABPProject/run.ipynb#W3sZmlsZQ%3D%3D?line=2'>3</a>\u001b[0m os\u001b[39m.\u001b[39mchdir(path)\n\u001b[0;32m      <a href='vscode-notebook-cell:/c%3A/Users/gargi/OneDrive/Documents/CMU/FA22/DABP/Project/FLSentencing_DABPProject/run.ipynb#W3sZmlsZQ%3D%3D?line=4'>5</a>\u001b[0m \u001b[39m#Clean charges(prosecutor specific actions) datasets (drug, theft)\u001b[39;00m\n\u001b[1;32m----> <a href='vscode-notebook-cell:/c%3A/Users/gargi/OneDrive/Documents/CMU/FA22/DABP/Project/FLSentencing_DABPProject/run.ipynb#W3sZmlsZQ%3D%3D?line=5'>6</a>\u001b[0m drug_sa_clean, theft_sa_clean \u001b[39m=\u001b[39m CleanSAO\u001b[39m.\u001b[39;49mclean_sao(\u001b[39m'\u001b[39;49m\u001b[39mCjdtSAOCase_00000.csv\u001b[39;49m\u001b[39m'\u001b[39;49m)\n\u001b[0;32m      <a href='vscode-notebook-cell:/c%3A/Users/gargi/OneDrive/Documents/CMU/FA22/DABP/Project/FLSentencing_DABPProject/run.ipynb#W3sZmlsZQ%3D%3D?line=7'>8</a>\u001b[0m \u001b[39m#Clean sentencing (offenses) datasets (drug, theft)\u001b[39;00m\n\u001b[0;32m      <a href='vscode-notebook-cell:/c%3A/Users/gargi/OneDrive/Documents/CMU/FA22/DABP/Project/FLSentencing_DABPProject/run.ipynb#W3sZmlsZQ%3D%3D?line=8'>9</a>\u001b[0m drug_offenses_clean, theft_offenses_clean \u001b[39m=\u001b[39m clean_fdoc([\u001b[39m'\u001b[39m\u001b[39mActive_Offenses_PRPR.csv\u001b[39m\u001b[39m'\u001b[39m, \u001b[39m'\u001b[39m\u001b[39mActive_Offenses_CPS.csv\u001b[39m\u001b[39m'\u001b[39m, \n\u001b[0;32m     <a href='vscode-notebook-cell:/c%3A/Users/gargi/OneDrive/Documents/CMU/FA22/DABP/Project/FLSentencing_DABPProject/run.ipynb#W3sZmlsZQ%3D%3D?line=9'>10</a>\u001b[0m                                                        \u001b[39m'\u001b[39m\u001b[39mRelease_Offenses_PRPR.csv\u001b[39m\u001b[39m'\u001b[39m, \u001b[39m'\u001b[39m\u001b[39mRelease_Offenses_CPS.csv\u001b[39m\u001b[39m'\u001b[39m, \n\u001b[0;32m     <a href='vscode-notebook-cell:/c%3A/Users/gargi/OneDrive/Documents/CMU/FA22/DABP/Project/FLSentencing_DABPProject/run.ipynb#W3sZmlsZQ%3D%3D?line=10'>11</a>\u001b[0m                                                        \u001b[39m'\u001b[39m\u001b[39mActive_Root.csv\u001b[39m\u001b[39m'\u001b[39m, \u001b[39m'\u001b[39m\u001b[39mRelease_Root.csv\u001b[39m\u001b[39m'\u001b[39m])\n",
      "File \u001b[1;32mc:\\Users\\gargi\\OneDrive\\Documents\\CMU\\FA22\\DABP\\Project\\FLSentencing_DABPProject\\CleanSAO.py:32\u001b[0m, in \u001b[0;36mclean_sao\u001b[1;34m(filename)\u001b[0m\n\u001b[0;32m     25\u001b[0m df \u001b[39m=\u001b[39m df[(df\u001b[39m.\u001b[39mYEAR \u001b[39m>\u001b[39m \u001b[39m2011\u001b[39m) \u001b[39m&\u001b[39m (df\u001b[39m.\u001b[39mYEAR\u001b[39m<\u001b[39m\u001b[39m2022\u001b[39m)]\n\u001b[0;32m     27\u001b[0m df\u001b[39m.\u001b[39mrename(columns \u001b[39m=\u001b[39m {\u001b[39m'\u001b[39m\u001b[39mCOUNTY_DESCRIPTION\u001b[39m\u001b[39m'\u001b[39m : \u001b[39m\"\u001b[39m\u001b[39mCOUNTY\u001b[39m\u001b[39m\"\u001b[39m,\n\u001b[0;32m     28\u001b[0m                      \u001b[39m'\u001b[39m\u001b[39mDEFENDANT_RACE_TYPE_DESC\u001b[39m\u001b[39m'\u001b[39m:\u001b[39m'\u001b[39m\u001b[39mRACE\u001b[39m\u001b[39m'\u001b[39m,\n\u001b[0;32m     29\u001b[0m                      \u001b[39m'\u001b[39m\u001b[39mDEFENDANT_SEX_TYPE_DESC\u001b[39m\u001b[39m'\u001b[39m:\u001b[39m'\u001b[39m\u001b[39mSEX\u001b[39m\u001b[39m'\u001b[39m,\n\u001b[0;32m     30\u001b[0m                      \u001b[39m'\u001b[39m\u001b[39mOFFENSE_FCIC_TYPE_DESC\u001b[39m\u001b[39m'\u001b[39m:\u001b[39m'\u001b[39m\u001b[39mOFFENSE\u001b[39m\u001b[39m'\u001b[39m}, inplace \u001b[39m=\u001b[39m \u001b[39mTrue\u001b[39;00m)\n\u001b[1;32m---> 32\u001b[0m drugsubset \u001b[39m=\u001b[39m np\u001b[39m.\u001b[39mwhere(df\u001b[39m.\u001b[39;49mOFFENSE_FCIC_TYPE_DESC\u001b[39m.\u001b[39mstr\u001b[39m.\u001b[39mcontains(\u001b[39m'\u001b[39m\u001b[39m|\u001b[39m\u001b[39m'\u001b[39m\u001b[39m.\u001b[39mjoin(drug_keywords)))[\u001b[39m0\u001b[39m]\u001b[39m.\u001b[39mtolist()\n\u001b[0;32m     33\u001b[0m theftsubset \u001b[39m=\u001b[39m np\u001b[39m.\u001b[39mwhere(df\u001b[39m.\u001b[39mOFFENSE_FCIC_TYPE_DESC\u001b[39m.\u001b[39mstr\u001b[39m.\u001b[39mcontains(\u001b[39m'\u001b[39m\u001b[39m|\u001b[39m\u001b[39m'\u001b[39m\u001b[39m.\u001b[39mjoin(theft_keywords)))[\u001b[39m0\u001b[39m]\u001b[39m.\u001b[39mtolist()\n\u001b[0;32m     35\u001b[0m drug_df \u001b[39m=\u001b[39m df\u001b[39m.\u001b[39miloc[drugsubset]\u001b[39m.\u001b[39mreset_index(drop \u001b[39m=\u001b[39m \u001b[39mTrue\u001b[39;00m)\n",
      "File \u001b[1;32mc:\\ProgramData\\Anaconda3\\lib\\site-packages\\pandas\\core\\generic.py:5575\u001b[0m, in \u001b[0;36mNDFrame.__getattr__\u001b[1;34m(self, name)\u001b[0m\n\u001b[0;32m   5568\u001b[0m \u001b[39mif\u001b[39;00m (\n\u001b[0;32m   5569\u001b[0m     name \u001b[39mnot\u001b[39;00m \u001b[39min\u001b[39;00m \u001b[39mself\u001b[39m\u001b[39m.\u001b[39m_internal_names_set\n\u001b[0;32m   5570\u001b[0m     \u001b[39mand\u001b[39;00m name \u001b[39mnot\u001b[39;00m \u001b[39min\u001b[39;00m \u001b[39mself\u001b[39m\u001b[39m.\u001b[39m_metadata\n\u001b[0;32m   5571\u001b[0m     \u001b[39mand\u001b[39;00m name \u001b[39mnot\u001b[39;00m \u001b[39min\u001b[39;00m \u001b[39mself\u001b[39m\u001b[39m.\u001b[39m_accessors\n\u001b[0;32m   5572\u001b[0m     \u001b[39mand\u001b[39;00m \u001b[39mself\u001b[39m\u001b[39m.\u001b[39m_info_axis\u001b[39m.\u001b[39m_can_hold_identifiers_and_holds_name(name)\n\u001b[0;32m   5573\u001b[0m ):\n\u001b[0;32m   5574\u001b[0m     \u001b[39mreturn\u001b[39;00m \u001b[39mself\u001b[39m[name]\n\u001b[1;32m-> 5575\u001b[0m \u001b[39mreturn\u001b[39;00m \u001b[39mobject\u001b[39;49m\u001b[39m.\u001b[39;49m\u001b[39m__getattribute__\u001b[39;49m(\u001b[39mself\u001b[39;49m, name)\n",
      "\u001b[1;31mAttributeError\u001b[0m: 'DataFrame' object has no attribute 'OFFENSE_FCIC_TYPE_DESC'"
     ]
    }
   ],
   "source": [
    "dir = os.getcwd()\n",
    "path = dir+'/data/'\n",
    "os.chdir(path)\n",
    "\n",
    "#Clean charges(prosecutor specific actions) datasets (drug, theft)\n",
    "drug_sa_clean, theft_sa_clean = CleanSAO.clean_sao('CjdtSAOCase_00000.csv')\n",
    "\n",
    "#Clean sentencing (offenses) datasets (drug, theft)\n",
    "drug_offenses_clean, theft_offenses_clean = clean_fdoc(['Active_Offenses_PRPR.csv', 'Active_Offenses_CPS.csv', \n",
    "                                                       'Release_Offenses_PRPR.csv', 'Release_Offenses_CPS.csv', \n",
    "                                                       'Active_Root.csv', 'Release_Root.csv'])\n",
    "\n",
    "#Circuit-county-year political/State Attorney dataset\n",
    "ccm = create_ccm(safile = \"SA_Political_Leanings.csv\", \n",
    "                    housefile = \"clean_house.csv\", \n",
    "                    senatefile = \"clean_senate.csv\", \n",
    "                    presfile = \"clean_pres.csv\", \n",
    "                    circuitcountyfile=\"circuit_county_crosswalk.csv\")\n",
    "                    \n",
    "# Compile modeling datasets\n",
    "drug_sa_df = model_df(drug_sa_clean, ccm, obstype = 'action', crimetype = 'drug')\n",
    "theft_sa_df = model_df(theft_sa_clean, ccm, obstype = 'action', crimetype = 'theft')\n",
    "drug_off_df = model_df(drug_offenses_clean, ccm, obstype = 'offense', crimetype = 'drug')\n",
    "theft_off_df = model_df(theft_offenses_clean, ccm, obstype = 'offense', crimetype = 'theft')\n"
   ]
  },
  {
   "cell_type": "markdown",
   "metadata": {},
   "source": [
    "## CART Models"
   ]
  },
  {
   "cell_type": "markdown",
   "metadata": {},
   "source": [
    "### CART Classifier - Drug Charges"
   ]
  },
  {
   "cell_type": "code",
   "execution_count": null,
   "metadata": {},
   "outputs": [],
   "source": [
    "cart = {'max_depth':[3, 6, 10], \n",
    "        'min_samples_split':[8, 20], \n",
    "        'min_samples_leaf': [10, 20, 100]}\n",
    "\n",
    "drug_sa_tree = get_tree(drug_sa_df, target = 'FINAL_ACTION_DESC', paramdict = cart, model = DecisionTreeClassifier,  seed = 42)"
   ]
  },
  {
   "cell_type": "markdown",
   "metadata": {},
   "source": [
    "### CART Classifier - Theft Charges"
   ]
  },
  {
   "cell_type": "code",
   "execution_count": null,
   "metadata": {},
   "outputs": [],
   "source": [
    "theft_sa_tree = get_tree(theft_sa_df, target = 'FINAL_ACTION_DESC', paramdict = cart, model = DecisionTreeClassifier, seed = 42)"
   ]
  },
  {
   "cell_type": "markdown",
   "metadata": {},
   "source": [
    "### CART Regressor - Drug Sentencing"
   ]
  },
  {
   "cell_type": "code",
   "execution_count": null,
   "metadata": {},
   "outputs": [],
   "source": [
    "drug_off_tree = get_tree(drug_off_df, target = 'TERM_YEARS', paramdict = cart, model = DecisionTreeRegressor, seed = 42)"
   ]
  },
  {
   "cell_type": "markdown",
   "metadata": {},
   "source": [
    "### CART Regressor - Theft Sentencing"
   ]
  },
  {
   "cell_type": "code",
   "execution_count": null,
   "metadata": {},
   "outputs": [],
   "source": [
    "theft_off_tree = get_tree(theft_off_df, 'TERM_YEARS', paramdict = cart, model = DecisionTreeRegressor, seed = 42)"
   ]
  },
  {
   "cell_type": "markdown",
   "metadata": {},
   "source": [
    "## Random Forest Models"
   ]
  },
  {
   "cell_type": "markdown",
   "metadata": {},
   "source": [
    "### RF Classifier - Drug Charges"
   ]
  },
  {
   "cell_type": "code",
   "execution_count": null,
   "metadata": {},
   "outputs": [],
   "source": [
    "#RF hyperarameter space\n",
    "bag = {'max_depth':[10, 15], \n",
    "        'min_samples_leaf': [100, 200], \n",
    "        'max_features': [40, 80], \n",
    "        'n_estimators':[15, 20]} \n",
    "        \n",
    "drug_sa_tree = get_tree(drug_sa_df, target = 'FINAL_ACTION_DESC', paramdict = bag, model = RandomForestClassifier, seed = 42)"
   ]
  },
  {
   "cell_type": "markdown",
   "metadata": {},
   "source": [
    "### RF Classifier - Theft Charges"
   ]
  },
  {
   "cell_type": "code",
   "execution_count": null,
   "metadata": {},
   "outputs": [],
   "source": [
    "theft_sa_tree = get_tree(theft_sa_df, target = 'FINAL_ACTION_DESC', paramdict = bag, model = RandomForestClassifier, seed = 42)"
   ]
  },
  {
   "cell_type": "markdown",
   "metadata": {},
   "source": [
    "### RF Regressor - Drug Charges"
   ]
  },
  {
   "cell_type": "code",
   "execution_count": null,
   "metadata": {},
   "outputs": [],
   "source": [
    "drug_off_tree = get_tree(drug_off_df, target = 'TERM_YEARS', paramdict = bag, model = RandomForestRegressor, seed = 42)"
   ]
  },
  {
   "cell_type": "markdown",
   "metadata": {},
   "source": [
    "### RF Regressor - Theft Charges"
   ]
  },
  {
   "cell_type": "code",
   "execution_count": null,
   "metadata": {},
   "outputs": [],
   "source": [
    "theft_off_tree = get_tree(theft_off_df, 'TERM_YEARS', paramdict = bag, model = RandomForestRegressor, seed = 42)"
   ]
  },
  {
   "cell_type": "markdown",
   "metadata": {},
   "source": [
    "## XGBoost Models"
   ]
  },
  {
   "cell_type": "markdown",
   "metadata": {},
   "source": [
    "### XGB Classifier - Drug Charges"
   ]
  },
  {
   "cell_type": "code",
   "execution_count": null,
   "metadata": {},
   "outputs": [],
   "source": [
    "# XGB hyperparameter space\n",
    "boost = {'max_depth':[8, 12], \n",
    "        'min_samples_leaf': [5, 20],\n",
    "        'max_features': [8, 18], \n",
    "        'n_estimators':[10, 40]}\n",
    "\n",
    "drug_sa_tree = get_tree(drug_sa_df, target = 'FINAL_ACTION_DESC', paramdict = boost, model = XGBClassifier, seed =10)"
   ]
  },
  {
   "cell_type": "markdown",
   "metadata": {},
   "source": [
    "### XGB Classifier - Theft Charges"
   ]
  },
  {
   "cell_type": "code",
   "execution_count": null,
   "metadata": {},
   "outputs": [],
   "source": [
    "theft_sa_tree = get_tree(theft_sa_df, target = 'FINAL_ACTION_DESC', paramdict = bag, model = XGBClassifier,seed=10)"
   ]
  },
  {
   "cell_type": "markdown",
   "metadata": {},
   "source": [
    "### XGB Regressor - Drug Charges"
   ]
  },
  {
   "cell_type": "code",
   "execution_count": null,
   "metadata": {},
   "outputs": [],
   "source": [
    "drug_off_tree = get_tree(drug_off_df, target = 'TERM_YEARS', paramdict = bag, model = XGBRegressor, seed=42)"
   ]
  },
  {
   "cell_type": "markdown",
   "metadata": {},
   "source": [
    "### XGB Regressor - Theft Charges"
   ]
  },
  {
   "cell_type": "code",
   "execution_count": null,
   "metadata": {},
   "outputs": [],
   "source": [
    "theft_off_tree = get_tree(theft_off_df, 'TERM_YEARS', paramdict = bag, model =XGBRegressor, seed = 42)"
   ]
  }
 ],
 "metadata": {
  "kernelspec": {
   "display_name": "Python 3.9.12 ('base')",
   "language": "python",
   "name": "python3"
  },
  "language_info": {
   "codemirror_mode": {
    "name": "ipython",
    "version": 3
   },
   "file_extension": ".py",
   "mimetype": "text/x-python",
   "name": "python",
   "nbconvert_exporter": "python",
   "pygments_lexer": "ipython3",
   "version": "3.9.12"
  },
  "orig_nbformat": 4,
  "vscode": {
   "interpreter": {
    "hash": "ad2bdc8ecc057115af97d19610ffacc2b4e99fae6737bb82f5d7fb13d2f2c186"
   }
  }
 },
 "nbformat": 4,
 "nbformat_minor": 2
}
