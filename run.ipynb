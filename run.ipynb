{
 "cells": [
  {
   "cell_type": "code",
   "execution_count": 2,
   "metadata": {},
   "outputs": [],
   "source": [
    "import pandas as pd\n",
    "import numpy as np\n",
    "import os\n",
    "\n",
    "import matplotlib.pyplot as plt\n",
    "import seaborn as sns\n",
    "from sklearn.model_selection import train_test_split, GridSearchCV\n",
    "from sklearn.tree import DecisionTreeClassifier, DecisionTreeRegressor, plot_tree\n",
    "from sklearn.ensemble import RandomForestClassifier, RandomForestRegressor\n",
    "from sklearn.metrics import classification_report, confusion_matrix, accuracy_score, r2_score, mean_squared_error\n",
    "from xgboost import XGBRegressor, XGBClassifier\n",
    "import shap\n",
    "from functools import reduce"
   ]
  },
  {
   "cell_type": "code",
   "execution_count": 8,
   "metadata": {},
   "outputs": [],
   "source": [
    "#Read-in custom function\n",
    "import CleanSAO\n",
    "from CleanFDOC import clean_fdoc\n",
    "from CreateCCMaster import create_ccm\n",
    "from CreateModelDF import model_df\n",
    "from TreeModels import get_tree"
   ]
  },
  {
   "cell_type": "code",
   "execution_count": 6,
   "metadata": {},
   "outputs": [
    {
     "name": "stdout",
     "output_type": "stream",
     "text": [
      "\n",
      "\n",
      "\n",
      "\n"
     ]
    },
    {
     "ename": "KeyError",
     "evalue": "\"['RACE', 'SEX', 'OFFENSE'] not in index\"",
     "output_type": "error",
     "traceback": [
      "\u001b[1;31m---------------------------------------------------------------------------\u001b[0m",
      "\u001b[1;31mKeyError\u001b[0m                                  Traceback (most recent call last)",
      "\u001b[1;32mc:\\Users\\gargi\\OneDrive\\Documents\\CMU\\FA22\\DABP\\Project\\FLSentencing_DABPProject\\run.ipynb Cell 3\u001b[0m in \u001b[0;36m<cell line: 21>\u001b[1;34m()\u001b[0m\n\u001b[0;32m     <a href='vscode-notebook-cell:/c%3A/Users/gargi/OneDrive/Documents/CMU/FA22/DABP/Project/FLSentencing_DABPProject/run.ipynb#W3sZmlsZQ%3D%3D?line=13'>14</a>\u001b[0m ccm \u001b[39m=\u001b[39m create_ccm(safile \u001b[39m=\u001b[39m \u001b[39m\"\u001b[39m\u001b[39mSA_Political_Leanings.csv\u001b[39m\u001b[39m\"\u001b[39m, \n\u001b[0;32m     <a href='vscode-notebook-cell:/c%3A/Users/gargi/OneDrive/Documents/CMU/FA22/DABP/Project/FLSentencing_DABPProject/run.ipynb#W3sZmlsZQ%3D%3D?line=14'>15</a>\u001b[0m                     housefile \u001b[39m=\u001b[39m \u001b[39m\"\u001b[39m\u001b[39mclean_house.csv\u001b[39m\u001b[39m\"\u001b[39m, \n\u001b[0;32m     <a href='vscode-notebook-cell:/c%3A/Users/gargi/OneDrive/Documents/CMU/FA22/DABP/Project/FLSentencing_DABPProject/run.ipynb#W3sZmlsZQ%3D%3D?line=15'>16</a>\u001b[0m                     senatefile \u001b[39m=\u001b[39m \u001b[39m\"\u001b[39m\u001b[39mclean_senate.csv\u001b[39m\u001b[39m\"\u001b[39m, \n\u001b[0;32m     <a href='vscode-notebook-cell:/c%3A/Users/gargi/OneDrive/Documents/CMU/FA22/DABP/Project/FLSentencing_DABPProject/run.ipynb#W3sZmlsZQ%3D%3D?line=16'>17</a>\u001b[0m                     presfile \u001b[39m=\u001b[39m \u001b[39m\"\u001b[39m\u001b[39mclean_pres.csv\u001b[39m\u001b[39m\"\u001b[39m, \n\u001b[0;32m     <a href='vscode-notebook-cell:/c%3A/Users/gargi/OneDrive/Documents/CMU/FA22/DABP/Project/FLSentencing_DABPProject/run.ipynb#W3sZmlsZQ%3D%3D?line=17'>18</a>\u001b[0m                     circuitcountyfile\u001b[39m=\u001b[39m\u001b[39m\"\u001b[39m\u001b[39mcircuit_county_crosswalk.csv\u001b[39m\u001b[39m\"\u001b[39m)\n\u001b[0;32m     <a href='vscode-notebook-cell:/c%3A/Users/gargi/OneDrive/Documents/CMU/FA22/DABP/Project/FLSentencing_DABPProject/run.ipynb#W3sZmlsZQ%3D%3D?line=19'>20</a>\u001b[0m \u001b[39m# Compile modeling datasets\u001b[39;00m\n\u001b[1;32m---> <a href='vscode-notebook-cell:/c%3A/Users/gargi/OneDrive/Documents/CMU/FA22/DABP/Project/FLSentencing_DABPProject/run.ipynb#W3sZmlsZQ%3D%3D?line=20'>21</a>\u001b[0m drug_sa_df \u001b[39m=\u001b[39m model_df(drug_sa_clean, ccm, obstype \u001b[39m=\u001b[39;49m \u001b[39m'\u001b[39;49m\u001b[39maction\u001b[39;49m\u001b[39m'\u001b[39;49m, crimetype \u001b[39m=\u001b[39;49m \u001b[39m'\u001b[39;49m\u001b[39mdrug\u001b[39;49m\u001b[39m'\u001b[39;49m)\n\u001b[0;32m     <a href='vscode-notebook-cell:/c%3A/Users/gargi/OneDrive/Documents/CMU/FA22/DABP/Project/FLSentencing_DABPProject/run.ipynb#W3sZmlsZQ%3D%3D?line=21'>22</a>\u001b[0m theft_sa_df \u001b[39m=\u001b[39m model_df(theft_sa_clean, ccm, obstype \u001b[39m=\u001b[39m \u001b[39m'\u001b[39m\u001b[39maction\u001b[39m\u001b[39m'\u001b[39m, crimetype \u001b[39m=\u001b[39m \u001b[39m'\u001b[39m\u001b[39mtheft\u001b[39m\u001b[39m'\u001b[39m)\n\u001b[0;32m     <a href='vscode-notebook-cell:/c%3A/Users/gargi/OneDrive/Documents/CMU/FA22/DABP/Project/FLSentencing_DABPProject/run.ipynb#W3sZmlsZQ%3D%3D?line=22'>23</a>\u001b[0m drug_off_df \u001b[39m=\u001b[39m model_df(drug_offenses_clean, ccm, obstype \u001b[39m=\u001b[39m \u001b[39m'\u001b[39m\u001b[39moffense\u001b[39m\u001b[39m'\u001b[39m, crimetype \u001b[39m=\u001b[39m \u001b[39m'\u001b[39m\u001b[39mdrug\u001b[39m\u001b[39m'\u001b[39m)\n",
      "File \u001b[1;32mc:\\Users\\gargi\\OneDrive\\Documents\\CMU\\FA22\\DABP\\Project\\FLSentencing_DABPProject\\CreateModelDF.py:65\u001b[0m, in \u001b[0;36mmodel_df\u001b[1;34m(df, ccm, obstype, crimetype)\u001b[0m\n\u001b[0;32m     62\u001b[0m   charge_code \u001b[39m=\u001b[39m {\u001b[39m'\u001b[39m\u001b[39mFiled Pending Court\u001b[39m\u001b[39m'\u001b[39m:\u001b[39m1\u001b[39m,\u001b[39m'\u001b[39m\u001b[39mDropped or Abandoned\u001b[39m\u001b[39m'\u001b[39m:\u001b[39m0\u001b[39m,\u001b[39m'\u001b[39m\u001b[39mNo Action\u001b[39m\u001b[39m'\u001b[39m:\u001b[39m0\u001b[39m,\u001b[39m'\u001b[39m\u001b[39mNolle Prossed\u001b[39m\u001b[39m'\u001b[39m:\u001b[39m0\u001b[39m }\n\u001b[0;32m     63\u001b[0m   df \u001b[39m=\u001b[39m df\u001b[39m.\u001b[39mreplace({\u001b[39m\"\u001b[39m\u001b[39mFINAL_ACTION_DESC\u001b[39m\u001b[39m\"\u001b[39m: charge_code})\n\u001b[1;32m---> 65\u001b[0m df \u001b[39m=\u001b[39m pd\u001b[39m.\u001b[39;49mget_dummies(df, prefix\u001b[39m=\u001b[39;49mdf_dummycols, columns\u001b[39m=\u001b[39;49mdf_dummycols)\n\u001b[0;32m     66\u001b[0m df \u001b[39m=\u001b[39m df\u001b[39m.\u001b[39mdrop(df_dropcols, axis \u001b[39m=\u001b[39m \u001b[39m1\u001b[39m)\n\u001b[0;32m     68\u001b[0m final \u001b[39m=\u001b[39m pd\u001b[39m.\u001b[39mmerge(df, ccm, how\u001b[39m=\u001b[39m\u001b[39m'\u001b[39m\u001b[39mleft\u001b[39m\u001b[39m'\u001b[39m, on\u001b[39m=\u001b[39m[\u001b[39m'\u001b[39m\u001b[39mCOUNTY\u001b[39m\u001b[39m'\u001b[39m,\u001b[39m'\u001b[39m\u001b[39mYEAR\u001b[39m\u001b[39m'\u001b[39m])\n",
      "File \u001b[1;32mc:\\ProgramData\\Anaconda3\\lib\\site-packages\\pandas\\core\\reshape\\reshape.py:931\u001b[0m, in \u001b[0;36mget_dummies\u001b[1;34m(data, prefix, prefix_sep, dummy_na, columns, sparse, drop_first, dtype)\u001b[0m\n\u001b[0;32m    929\u001b[0m     \u001b[39mraise\u001b[39;00m \u001b[39mTypeError\u001b[39;00m(\u001b[39m\"\u001b[39m\u001b[39mInput must be a list-like for parameter `columns`\u001b[39m\u001b[39m\"\u001b[39m)\n\u001b[0;32m    930\u001b[0m \u001b[39melse\u001b[39;00m:\n\u001b[1;32m--> 931\u001b[0m     data_to_encode \u001b[39m=\u001b[39m data[columns]\n\u001b[0;32m    933\u001b[0m \u001b[39m# validate prefixes and separator to avoid silently dropping cols\u001b[39;00m\n\u001b[0;32m    934\u001b[0m \u001b[39mdef\u001b[39;00m \u001b[39mcheck_len\u001b[39m(item, name):\n",
      "File \u001b[1;32mc:\\ProgramData\\Anaconda3\\lib\\site-packages\\pandas\\core\\frame.py:3511\u001b[0m, in \u001b[0;36mDataFrame.__getitem__\u001b[1;34m(self, key)\u001b[0m\n\u001b[0;32m   3509\u001b[0m     \u001b[39mif\u001b[39;00m is_iterator(key):\n\u001b[0;32m   3510\u001b[0m         key \u001b[39m=\u001b[39m \u001b[39mlist\u001b[39m(key)\n\u001b[1;32m-> 3511\u001b[0m     indexer \u001b[39m=\u001b[39m \u001b[39mself\u001b[39;49m\u001b[39m.\u001b[39;49mcolumns\u001b[39m.\u001b[39;49m_get_indexer_strict(key, \u001b[39m\"\u001b[39;49m\u001b[39mcolumns\u001b[39;49m\u001b[39m\"\u001b[39;49m)[\u001b[39m1\u001b[39m]\n\u001b[0;32m   3513\u001b[0m \u001b[39m# take() does not accept boolean indexers\u001b[39;00m\n\u001b[0;32m   3514\u001b[0m \u001b[39mif\u001b[39;00m \u001b[39mgetattr\u001b[39m(indexer, \u001b[39m\"\u001b[39m\u001b[39mdtype\u001b[39m\u001b[39m\"\u001b[39m, \u001b[39mNone\u001b[39;00m) \u001b[39m==\u001b[39m \u001b[39mbool\u001b[39m:\n",
      "File \u001b[1;32mc:\\ProgramData\\Anaconda3\\lib\\site-packages\\pandas\\core\\indexes\\base.py:5782\u001b[0m, in \u001b[0;36mIndex._get_indexer_strict\u001b[1;34m(self, key, axis_name)\u001b[0m\n\u001b[0;32m   5779\u001b[0m \u001b[39melse\u001b[39;00m:\n\u001b[0;32m   5780\u001b[0m     keyarr, indexer, new_indexer \u001b[39m=\u001b[39m \u001b[39mself\u001b[39m\u001b[39m.\u001b[39m_reindex_non_unique(keyarr)\n\u001b[1;32m-> 5782\u001b[0m \u001b[39mself\u001b[39;49m\u001b[39m.\u001b[39;49m_raise_if_missing(keyarr, indexer, axis_name)\n\u001b[0;32m   5784\u001b[0m keyarr \u001b[39m=\u001b[39m \u001b[39mself\u001b[39m\u001b[39m.\u001b[39mtake(indexer)\n\u001b[0;32m   5785\u001b[0m \u001b[39mif\u001b[39;00m \u001b[39misinstance\u001b[39m(key, Index):\n\u001b[0;32m   5786\u001b[0m     \u001b[39m# GH 42790 - Preserve name from an Index\u001b[39;00m\n",
      "File \u001b[1;32mc:\\ProgramData\\Anaconda3\\lib\\site-packages\\pandas\\core\\indexes\\base.py:5845\u001b[0m, in \u001b[0;36mIndex._raise_if_missing\u001b[1;34m(self, key, indexer, axis_name)\u001b[0m\n\u001b[0;32m   5842\u001b[0m     \u001b[39mraise\u001b[39;00m \u001b[39mKeyError\u001b[39;00m(\u001b[39mf\u001b[39m\u001b[39m\"\u001b[39m\u001b[39mNone of [\u001b[39m\u001b[39m{\u001b[39;00mkey\u001b[39m}\u001b[39;00m\u001b[39m] are in the [\u001b[39m\u001b[39m{\u001b[39;00maxis_name\u001b[39m}\u001b[39;00m\u001b[39m]\u001b[39m\u001b[39m\"\u001b[39m)\n\u001b[0;32m   5844\u001b[0m not_found \u001b[39m=\u001b[39m \u001b[39mlist\u001b[39m(ensure_index(key)[missing_mask\u001b[39m.\u001b[39mnonzero()[\u001b[39m0\u001b[39m]]\u001b[39m.\u001b[39munique())\n\u001b[1;32m-> 5845\u001b[0m \u001b[39mraise\u001b[39;00m \u001b[39mKeyError\u001b[39;00m(\u001b[39mf\u001b[39m\u001b[39m\"\u001b[39m\u001b[39m{\u001b[39;00mnot_found\u001b[39m}\u001b[39;00m\u001b[39m not in index\u001b[39m\u001b[39m\"\u001b[39m)\n",
      "\u001b[1;31mKeyError\u001b[0m: \"['RACE', 'SEX', 'OFFENSE'] not in index\""
     ]
    }
   ],
   "source": [
    "dir = os.getcwd()\n",
    "path = dir+'/data/'\n",
    "os.chdir(path)\n",
    "\n",
    "#Clean charges(prosecutor specific actions) datasets (drug, theft)\n",
    "drug_sa_clean, theft_sa_clean = CleanSAO.clean_sao('CjdtSAOCase_00000.csv')\n",
    "\n",
    "#Clean sentencing (offenses) datasets (drug, theft)\n",
    "drug_offenses_clean, theft_offenses_clean = clean_fdoc(['Active_Offenses_PRPR.csv', 'Active_Offenses_CPS.csv', \n",
    "                                                       'Release_Offenses_PRPR.csv', 'Release_Offenses_CPS.csv', \n",
    "                                                       'Active_Root.csv', 'Release_Root.csv'])\n",
    "\n",
    "#Circuit-county-year political/State Attorney dataset\n",
    "ccm = create_ccm(safile = \"SA_Political_Leanings.csv\", \n",
    "                    housefile = \"clean_house.csv\", \n",
    "                    senatefile = \"clean_senate.csv\", \n",
    "                    presfile = \"clean_pres.csv\", \n",
    "                    circuitcountyfile=\"circuit_county_crosswalk.csv\")\n",
    "                    \n",
    "# Compile modeling datasets\n",
    "drug_sa_df = model_df(drug_sa_clean, ccm, obstype = 'action', crimetype = 'drug')\n",
    "theft_sa_df = model_df(theft_sa_clean, ccm, obstype = 'action', crimetype = 'theft')\n",
    "drug_off_df = model_df(drug_offenses_clean, ccm, obstype = 'offense', crimetype = 'drug')\n",
    "theft_off_df = model_df(theft_offenses_clean, ccm, obstype = 'offense', crimetype = 'theft')\n"
   ]
  },
  {
   "cell_type": "markdown",
   "metadata": {},
   "source": [
    "## CART Models"
   ]
  },
  {
   "cell_type": "markdown",
   "metadata": {},
   "source": [
    "### CART Classifier - Drug Charges"
   ]
  },
  {
   "cell_type": "code",
   "execution_count": null,
   "metadata": {},
   "outputs": [],
   "source": [
    "cart = {'max_depth':[3, 6, 10], \n",
    "        'min_samples_split':[8, 20], \n",
    "        'min_samples_leaf': [10, 20, 100]}\n",
    "\n",
    "drug_sa_tree = get_tree(drug_sa_df, target = 'FINAL_ACTION_DESC', paramdict = cart, model = DecisionTreeClassifier,  seed = 42)"
   ]
  },
  {
   "cell_type": "markdown",
   "metadata": {},
   "source": [
    "### CART Classifier - Theft Charges"
   ]
  },
  {
   "cell_type": "code",
   "execution_count": null,
   "metadata": {},
   "outputs": [],
   "source": [
    "theft_sa_tree = get_tree(theft_sa_df, target = 'FINAL_ACTION_DESC', paramdict = cart, model = DecisionTreeClassifier, seed = 42)"
   ]
  },
  {
   "cell_type": "markdown",
   "metadata": {},
   "source": [
    "### CART Regressor - Drug Sentencing"
   ]
  },
  {
   "cell_type": "code",
   "execution_count": null,
   "metadata": {},
   "outputs": [],
   "source": [
    "drug_off_tree = get_tree(drug_off_df, target = 'TERM_YEARS', paramdict = cart, model = DecisionTreeRegressor, seed = 42)"
   ]
  },
  {
   "cell_type": "markdown",
   "metadata": {},
   "source": [
    "### CART Regressor - Theft Sentencing"
   ]
  },
  {
   "cell_type": "code",
   "execution_count": null,
   "metadata": {},
   "outputs": [],
   "source": [
    "theft_off_tree = get_tree(theft_off_df, 'TERM_YEARS', paramdict = cart, model = DecisionTreeRegressor, seed = 42)"
   ]
  },
  {
   "cell_type": "markdown",
   "metadata": {},
   "source": [
    "## Random Forest Models"
   ]
  },
  {
   "cell_type": "markdown",
   "metadata": {},
   "source": [
    "### RF Classifier - Drug Charges"
   ]
  },
  {
   "cell_type": "code",
   "execution_count": null,
   "metadata": {},
   "outputs": [],
   "source": [
    "#RF hyperarameter space\n",
    "bag = {'max_depth':[10, 15], \n",
    "        'min_samples_leaf': [100, 200], \n",
    "        'max_features': [40, 80], \n",
    "        'n_estimators':[15, 20]} \n",
    "        \n",
    "drug_sa_tree = get_tree(drug_sa_df, target = 'FINAL_ACTION_DESC', paramdict = bag, model = RandomForestClassifier, seed = 42)"
   ]
  },
  {
   "cell_type": "markdown",
   "metadata": {},
   "source": [
    "### RF Classifier - Theft Charges"
   ]
  },
  {
   "cell_type": "code",
   "execution_count": null,
   "metadata": {},
   "outputs": [],
   "source": [
    "theft_sa_tree = get_tree(theft_sa_df, target = 'FINAL_ACTION_DESC', paramdict = bag, model = RandomForestClassifier, seed = 42)"
   ]
  },
  {
   "cell_type": "markdown",
   "metadata": {},
   "source": [
    "### RF Regressor - Drug Charges"
   ]
  },
  {
   "cell_type": "code",
   "execution_count": null,
   "metadata": {},
   "outputs": [],
   "source": [
    "drug_off_tree = get_tree(drug_off_df, target = 'TERM_YEARS', paramdict = bag, model = RandomForestRegressor, seed = 42)"
   ]
  },
  {
   "cell_type": "markdown",
   "metadata": {},
   "source": [
    "### RF Regressor - Theft Charges"
   ]
  },
  {
   "cell_type": "code",
   "execution_count": null,
   "metadata": {},
   "outputs": [],
   "source": [
    "theft_off_tree = get_tree(theft_off_df, 'TERM_YEARS', paramdict = bag, model = RandomForestRegressor, seed = 42)"
   ]
  },
  {
   "cell_type": "markdown",
   "metadata": {},
   "source": [
    "## XGBoost Models"
   ]
  },
  {
   "cell_type": "markdown",
   "metadata": {},
   "source": [
    "### XGB Classifier - Drug Charges"
   ]
  },
  {
   "cell_type": "code",
   "execution_count": null,
   "metadata": {},
   "outputs": [],
   "source": [
    "# XGB hyperparameter space\n",
    "boost = {'max_depth':[8, 12], \n",
    "        'min_samples_leaf': [5, 20],\n",
    "        'max_features': [8, 18], \n",
    "        'n_estimators':[10, 40]}\n",
    "\n",
    "drug_sa_tree = get_tree(drug_sa_df, target = 'FINAL_ACTION_DESC', paramdict = boost, model = XGBClassifier, seed =10)"
   ]
  },
  {
   "cell_type": "markdown",
   "metadata": {},
   "source": [
    "### XGB Classifier - Theft Charges"
   ]
  },
  {
   "cell_type": "code",
   "execution_count": null,
   "metadata": {},
   "outputs": [],
   "source": [
    "theft_sa_tree = get_tree(theft_sa_df, target = 'FINAL_ACTION_DESC', paramdict = bag, model = XGBClassifier,seed=10)"
   ]
  },
  {
   "cell_type": "markdown",
   "metadata": {},
   "source": [
    "### XGB Regressor - Drug Charges"
   ]
  },
  {
   "cell_type": "code",
   "execution_count": null,
   "metadata": {},
   "outputs": [],
   "source": [
    "drug_off_tree = get_tree(drug_off_df, target = 'TERM_YEARS', paramdict = bag, model = XGBRegressor, seed=42)"
   ]
  },
  {
   "cell_type": "markdown",
   "metadata": {},
   "source": [
    "### XGB Regressor - Theft Charges"
   ]
  },
  {
   "cell_type": "code",
   "execution_count": null,
   "metadata": {},
   "outputs": [],
   "source": [
    "theft_off_tree = get_tree(theft_off_df, 'TERM_YEARS', paramdict = bag, model =XGBRegressor, seed = 42)"
   ]
  }
 ],
 "metadata": {
  "kernelspec": {
   "display_name": "Python 3.9.12 ('base')",
   "language": "python",
   "name": "python3"
  },
  "language_info": {
   "codemirror_mode": {
    "name": "ipython",
    "version": 3
   },
   "file_extension": ".py",
   "mimetype": "text/x-python",
   "name": "python",
   "nbconvert_exporter": "python",
   "pygments_lexer": "ipython3",
   "version": "3.9.12"
  },
  "orig_nbformat": 4,
  "vscode": {
   "interpreter": {
    "hash": "ad2bdc8ecc057115af97d19610ffacc2b4e99fae6737bb82f5d7fb13d2f2c186"
   }
  }
 },
 "nbformat": 4,
 "nbformat_minor": 2
}
