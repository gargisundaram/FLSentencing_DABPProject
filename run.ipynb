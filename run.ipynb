{
 "cells": [
  {
   "cell_type": "code",
   "execution_count": null,
   "metadata": {},
   "outputs": [
    {
     "ename": "",
     "evalue": "",
     "output_type": "error",
     "traceback": [
      "\u001b[1;31mThe kernel failed to start as a dll could not be loaded.\n",
      "\u001b[1;31mClick <a href='https://aka.ms/kernelFailuresDllLoad'>here</a> for more info."
     ]
    }
   ],
   "source": [
    "#import required functions\n",
    "# Note: If you have not previously used some of these packages (such as shap), you may need to install them\n",
    "# We apologize for any inconvenience due to installing packages\n",
    "# However, it is impossible for us to know in advance the packages each individual has installed\n",
    "\n",
    "import pandas as pd\n",
    "import numpy as np\n",
    "import os\n",
    "\n",
    "import matplotlib.pyplot as plt\n",
    "import seaborn as sns\n",
    "from sklearn.model_selection import train_test_split, GridSearchCV\n",
    "from sklearn.tree import DecisionTreeClassifier, DecisionTreeRegressor, plot_tree\n",
    "from sklearn.ensemble import RandomForestClassifier, RandomForestRegressor\n",
    "from sklearn.metrics import classification_report, confusion_matrix, accuracy_score, r2_score, mean_squared_error\n",
    "from xgboost import XGBRegressor, XGBClassifier\n",
    "\n",
    "import shap\n",
    "from functools import reduce\n",
    "\n",
    "#Read-in custom function\n",
    "from CleanSAO import clean_sao\n",
    "from CleanFDOC import clean_fdoc\n",
    "from CreateCCMaster import create_ccm\n",
    "from CreateModelDF import model_df\n",
    "from TreeModels import get_tree\n",
    "\n",
    "#set working path\n",
    "\n",
    "dir = os.getcwd()\n",
    "path = dir+'/data/'\n",
    "os.chdir(path)\n",
    "\n",
    "#Clean charges(prosecutor specific actions) datasets (drug, theft)\n",
    "drug_sa_clean, theft_sa_clean = clean_sao('CjdtSAOCase_00000_sample.csv')\n",
    "\n",
    "#Clean sentencing (offenses) datasets (drug, theft)\n",
    "drug_offenses_clean, theft_offenses_clean = clean_fdoc(['Active_Offenses_PRPR.csv', 'Active_Offenses_CPS.csv', \n",
    "                                                       'Release_Offenses_PRPR.csv', 'Release_Offenses_CPS.csv', \n",
    "                                                       'Active_Root.csv', 'Release_Root.csv'])\n",
    "\n",
    "#Circuit-county-year political/State Attorney dataset\n",
    "ccm = create_ccm(safile = \"SA_Political_Leanings_sample.csv\", \n",
    "                    housefile = \"clean_house_sample.csv\", \n",
    "                    senatefile = \"clean_senate_sample.csv\", \n",
    "                    presfile = \"clean_pres_sample.csv\", \n",
    "                    circuitcountyfile=\"circuit_county_crosswalk_sample.csv\")\n",
    "                    \n",
    "# Compile modeling datasets\n",
    "drug_sa_df = model_df(drug_sa_clean, ccm, obstype = 'action', crimetype = 'drug')\n",
    "theft_sa_df = model_df(theft_sa_clean, ccm, obstype = 'action', crimetype = 'theft')\n",
    "drug_off_df = model_df(drug_offenses_clean, ccm, obstype = 'offense', crimetype = 'drug')\n",
    "theft_off_df = model_df(theft_offenses_clean, ccm, obstype = 'offense', crimetype = 'theft')\n",
    "\n",
    "#CART Model Hyperparameters\n",
    "cart = {'max_depth':[3, 6, 10], \n",
    "        'min_samples_split':[8, 20], \n",
    "        'min_samples_leaf': [10, 20, 100]}\n",
    "\n",
    "#CART Model Drug Charges\n",
    "drug_sa_cart = get_tree(drug_sa_df, target = 'FINAL_ACTION_DESC', paramdict = cart, model = DecisionTreeClassifier,  seed = 42)\n",
    "\n",
    "#CART Model Theft Charges\n",
    "theft_sa_cart = get_tree(theft_sa_df, target = 'FINAL_ACTION_DESC', paramdict = cart, model = DecisionTreeClassifier, seed = 42)\n",
    "\n",
    "#CART Model Drug Sentencing\n",
    "drug_off_cart = get_tree(drug_off_df, target = 'TERM_YEARS', paramdict = cart, model = DecisionTreeRegressor, seed = 42, nsample = 10000)\n",
    "\n",
    "#CART Model Theft Sentencing\n",
    "theft_off_cart = get_tree(theft_off_df, 'TERM_YEARS', paramdict = cart, model = DecisionTreeRegressor, seed = 42, nsample = 10000)\n",
    "\n",
    "#Random Forest hyperarameter space\n",
    "bag = {'max_depth':[10, 15], \n",
    "        'min_samples_leaf': [100, 200], \n",
    "        'max_features': [40, 80], \n",
    "        'n_estimators':[15, 20]} \n",
    "\n",
    "#Random Forest Drug Charges        \n",
    "drug_sa_rf = get_tree(drug_sa_df, target = 'FINAL_ACTION_DESC', paramdict = bag, model = RandomForestClassifier, seed = 42)\n",
    "\n",
    "#Random Forest Theft Charges\n",
    "theft_sa_rf = get_tree(theft_sa_df, target = 'FINAL_ACTION_DESC', paramdict = bag, model = RandomForestClassifier, seed = 42)\n",
    "\n",
    "#Random Forest Drug Sentencing\n",
    "drug_off_rf= get_tree(drug_off_df, target = 'TERM_YEARS', paramdict = bag, model = RandomForestRegressor, seed = 42, nsample = 10000)\n",
    "\n",
    "#Random Forest Theft Sentencing\n",
    "theft_off_rf = get_tree(theft_off_df, target = 'TERM_YEARS', paramdict = bag, model = RandomForestRegressor, seed = 42, nsample = 10000)\n",
    "\n",
    "#XGBoost Hyperparameters for Classifier models\n",
    "xgb_cls = {'max_depth':[4, 6], \n",
    "        'min_child_weight':[10, 20],\n",
    "        'alpha': [0.1, 0.2],\n",
    "        'colsample_bytree': [0.6, 0.75]} \n",
    "\n",
    "#XGBoost Drug Charges\n",
    "drug_sa_xgb = get_tree(drug_sa_df, target = 'FINAL_ACTION_DESC', paramdict = xgb_cls, model = XGBClassifier, seed =10)\n",
    "\n",
    "#XGBoost Theft Charges\n",
    "theft_sa_xgb = get_tree(theft_sa_df, target = 'FINAL_ACTION_DESC', paramdict = xgb_cls, model = XGBClassifier,seed=10)\n",
    "\n",
    "#XGBoost Hyperparameters for Regression models\n",
    "boost = {'max_depth':[8, 12], \n",
    "        'min_child_weight':[10, 20],\n",
    "        'alpha': [0.1, 0.2],\n",
    "        'colsample_bytree': [0.6, 0.75]}\n",
    "        \n",
    "#XGBoost Drug Sentencing\n",
    "drug_off_xgb = get_tree(drug_off_df, target = 'TERM_YEARS', paramdict = boost, model = XGBRegressor, seed=42, nsample = 10000)\n",
    "\n",
    "#XGBoost Theft Sentencing\n",
    "theft_off_xgb = get_tree(theft_off_df, 'TERM_YEARS', paramdict = boost, model = XGBRegressor, seed = 42, nsample = 10000)"
   ]
  },
  {
   "cell_type": "code",
   "execution_count": null,
   "metadata": {},
   "outputs": [
    {
     "ename": "",
     "evalue": "",
     "output_type": "error",
     "traceback": [
      "\u001b[1;31mThe kernel failed to start as a dll could not be loaded.\n",
      "\u001b[1;31mClick <a href='https://aka.ms/kernelFailuresDllLoad'>here</a> for more info."
     ]
    }
   ],
   "source": [
    "pip install sqlite3"
   ]
  }
 ],
 "metadata": {
  "kernelspec": {
   "display_name": "Python 3.9.12 ('base')",
   "language": "python",
   "name": "python3"
  },
  "language_info": {
   "codemirror_mode": {
    "name": "ipython",
    "version": 3
   },
   "file_extension": ".py",
   "mimetype": "text/x-python",
   "name": "python",
   "nbconvert_exporter": "python",
   "pygments_lexer": "ipython3",
   "version": "3.9.12"
  },
  "orig_nbformat": 4,
  "vscode": {
   "interpreter": {
    "hash": "ad2bdc8ecc057115af97d19610ffacc2b4e99fae6737bb82f5d7fb13d2f2c186"
   }
  }
 },
 "nbformat": 4,
 "nbformat_minor": 2
}
