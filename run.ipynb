{
 "cells": [
  {
   "cell_type": "code",
   "execution_count": null,
   "metadata": {},
   "outputs": [],
   "source": [
    "import pandas as pd\n",
    "import numpy as np\n",
    "import matplotlib.pyplot as plt\n",
    "import seaborn as sns\n",
    "from sklearn.model_selection import train_test_split, GridSearchCV\n",
    "from sklearn.tree import DecisionTreeClassifier, DecisionTreeRegressor, plot_tree\n",
    "from sklearn.ensemble import RandomForestClassifier, RandomForestRegressor\n",
    "from sklearn.metrics import classification_report, confusion_matrix, accuracy_score, r2_score, mean_squared_error\n",
    "from xgboost import XGBRegressor, XGBClassifier\n",
    "import shap\n",
    "from functools import reduce"
   ]
  },
  {
   "cell_type": "code",
   "execution_count": null,
   "metadata": {},
   "outputs": [],
   "source": [
    "#Read-in custom functions\n",
    "from CleanSAO import clean_sao\n",
    "from CleanFDOC import clean_fdoc\n",
    "from CreateCCMaster import create_ccm\n",
    "from CreateModelDF import model_df\n",
    "from TreeModels import get_tree"
   ]
  },
  {
   "cell_type": "code",
   "execution_count": null,
   "metadata": {},
   "outputs": [],
   "source": [
    "#Clean charges(prosecutor specific actions) datasets (drug, theft)\n",
    "drug_sa_clean, theft_sa_clean = clean_sao('CjdtSAOCase_00000.csv')\n",
    "\n",
    "#Clean sentencing (offenses) datasets (drug, theft)\n",
    "drug_offenses_clean, theft_offenses_clean = clean_fdoc(['Active_Offenses_PRPR.csv', 'Active_Offenses_CPS.csv', \n",
    "                                                       'Release_Offenses_PRPR.csv', 'Release_Offenses_CPS.csv', \n",
    "                                                       'Active_Root.csv', 'Release_Root.csv'])\n",
    "\n",
    "#Circuit-county-year political/State Attorney dataset\n",
    "ccm = create_ccm(safile = \"SA_Political_Leanings.csv\", \n",
    "                    housefile = \"clean_house.csv\", \n",
    "                    senatefile = \"clean_senate.csv\", \n",
    "                    presfile = \"clean_pres.csv\", \n",
    "                    circuitcountyfile=\"circuit_county_crosswalk.csv\")\n",
    "\n",
    "# Compile modeling datasets\n",
    "drug_sa_df = model_df(drug_sa_clean, ccm, obstype = 'action', crimetype = 'drug')\n",
    "theft_sa_df = model_df(theft_sa_clean, ccm, obstype = 'action', crimetype = 'theft')\n",
    "drug_off_df = model_df(drug_offenses_clean, ccm, obstype = 'offense', crimetype = 'drug')\n",
    "theft_off_df = model_df(theft_offenses_clean, ccm, obstype = 'offense', crimetype = 'theft')"
   ]
  },
  {
   "cell_type": "markdown",
   "metadata": {},
   "source": [
    "## CART Models"
   ]
  },
  {
   "cell_type": "markdown",
   "metadata": {},
   "source": [
    "### CART Classifier - Drug Charges"
   ]
  },
  {
   "cell_type": "code",
   "execution_count": null,
   "metadata": {},
   "outputs": [],
   "source": [
    "cart = {'max_depth':[3, 6, 10], \n",
    "        'min_samples_split':[8, 20], \n",
    "        'min_samples_leaf': [10, 20, 100]}\n",
    "\n",
    "drug_sa_tree = get_tree(drug_sa_df, target = 'FINAL_ACTION_DESC', paramdict = cart, model = DecisionTreeClassifier,  seed = 42)"
   ]
  },
  {
   "cell_type": "markdown",
   "metadata": {},
   "source": [
    "### CART Classifier - Theft Charges"
   ]
  },
  {
   "cell_type": "code",
   "execution_count": null,
   "metadata": {},
   "outputs": [],
   "source": [
    "theft_sa_tree = get_tree(theft_sa_df, target = 'FINAL_ACTION_DESC', paramdict = cart, model = DecisionTreeClassifier, seed = 42)"
   ]
  },
  {
   "cell_type": "markdown",
   "metadata": {},
   "source": [
    "### CART Regressor - Drug Sentencing"
   ]
  },
  {
   "cell_type": "code",
   "execution_count": null,
   "metadata": {},
   "outputs": [],
   "source": [
    "drug_off_tree = get_tree(drug_off_df, target = 'TERM_YEARS', paramdict = cart, model = DecisionTreeRegressor, seed = 42)"
   ]
  },
  {
   "cell_type": "markdown",
   "metadata": {},
   "source": [
    "### CART Regressor - Theft Sentencing"
   ]
  },
  {
   "cell_type": "code",
   "execution_count": null,
   "metadata": {},
   "outputs": [],
   "source": [
    "theft_off_tree = get_tree(theft_off_df, 'TERM_YEARS', paramdict = cart, model = DecisionTreeRegressor, seed = 42)"
   ]
  },
  {
   "cell_type": "markdown",
   "metadata": {},
   "source": [
    "## Random Forest Models"
   ]
  },
  {
   "cell_type": "markdown",
   "metadata": {},
   "source": [
    "### RF Classifier - Drug Charges"
   ]
  },
  {
   "cell_type": "code",
   "execution_count": null,
   "metadata": {},
   "outputs": [],
   "source": [
    "#RF hyperarameter space\n",
    "bag = {'max_depth':[10, 15], \n",
    "        'min_samples_leaf': [100, 200], \n",
    "        'max_features': [40, 80], \n",
    "        'n_estimators':[15, 20]} \n",
    "        \n",
    "drug_sa_tree = get_tree(drug_sa_df, target = 'FINAL_ACTION_DESC', paramdict = bag, model = RandomForestClassifier, seed = 42)"
   ]
  },
  {
   "cell_type": "markdown",
   "metadata": {},
   "source": [
    "### RF Classifier - Theft Charges"
   ]
  },
  {
   "cell_type": "code",
   "execution_count": null,
   "metadata": {},
   "outputs": [],
   "source": [
    "theft_sa_tree = get_tree(theft_sa_df, target = 'FINAL_ACTION_DESC', paramdict = bag, model = RandomForestClassifier, seed = 42)"
   ]
  },
  {
   "cell_type": "markdown",
   "metadata": {},
   "source": [
    "### RF Regressor - Drug Charges"
   ]
  },
  {
   "cell_type": "code",
   "execution_count": null,
   "metadata": {},
   "outputs": [],
   "source": [
    "drug_off_tree = get_tree(drug_off_df, target = 'TERM_YEARS', paramdict = bag, model = RandomForestRegressor, seed = 42)"
   ]
  },
  {
   "cell_type": "markdown",
   "metadata": {},
   "source": [
    "### RF Regressor - Theft Charges"
   ]
  },
  {
   "cell_type": "code",
   "execution_count": null,
   "metadata": {},
   "outputs": [],
   "source": [
    "theft_off_tree = get_tree(theft_off_df, 'TERM_YEARS', paramdict = bag, model = RandomForestRegressor, seed = 42)"
   ]
  },
  {
   "cell_type": "markdown",
   "metadata": {},
   "source": [
    "## XGBoost Models"
   ]
  },
  {
   "cell_type": "markdown",
   "metadata": {},
   "source": [
    "### XGB Classifier - Drug Charges"
   ]
  },
  {
   "cell_type": "code",
   "execution_count": null,
   "metadata": {},
   "outputs": [],
   "source": [
    "# XGB hyperparameter space\n",
    "boost = {'max_depth':[8, 12], \n",
    "        'min_samples_leaf': [5, 20],\n",
    "        'max_features': [8, 18], \n",
    "        'n_estimators':[10, 40]}\n",
    "\n",
    "drug_sa_tree = get_tree(drug_sa_df, target = 'FINAL_ACTION_DESC', paramdict = boost, model = XGBClassifier, seed =10)"
   ]
  },
  {
   "cell_type": "markdown",
   "metadata": {},
   "source": [
    "### XGB Classifier - Theft Charges"
   ]
  },
  {
   "cell_type": "code",
   "execution_count": null,
   "metadata": {},
   "outputs": [],
   "source": [
    "theft_sa_tree = get_tree(theft_sa_df, target = 'FINAL_ACTION_DESC', paramdict = bag, model = XGBClassifier,seed=10)"
   ]
  },
  {
   "cell_type": "markdown",
   "metadata": {},
   "source": [
    "### XGB Regressor - Drug Charges"
   ]
  },
  {
   "cell_type": "code",
   "execution_count": null,
   "metadata": {},
   "outputs": [],
   "source": [
    "drug_off_tree = get_tree(drug_off_df, target = 'TERM_YEARS', paramdict = bag, model = XGBRegressor, seed=42)"
   ]
  },
  {
   "cell_type": "markdown",
   "metadata": {},
   "source": [
    "### XGB Regressor - Theft Charges"
   ]
  },
  {
   "cell_type": "code",
   "execution_count": null,
   "metadata": {},
   "outputs": [],
   "source": [
    "theft_off_tree = get_tree(theft_off_df, 'TERM_YEARS', paramdict = bag, model =XGBRegressor, seed = 42)"
   ]
  }
 ],
 "metadata": {
  "kernelspec": {
   "display_name": "Python 3.9.12 ('base')",
   "language": "python",
   "name": "python3"
  },
  "language_info": {
   "name": "python",
   "version": "3.9.12"
  },
  "orig_nbformat": 4,
  "vscode": {
   "interpreter": {
    "hash": "ad2bdc8ecc057115af97d19610ffacc2b4e99fae6737bb82f5d7fb13d2f2c186"
   }
  }
 },
 "nbformat": 4,
 "nbformat_minor": 2
}
